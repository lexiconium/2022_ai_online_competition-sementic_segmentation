{
 "cells": [
  {
   "cell_type": "code",
   "execution_count": 27,
   "metadata": {
    "collapsed": true
   },
   "outputs": [],
   "source": [
    "import numpy as np\n",
    "\n",
    "import torch\n",
    "from torch.nn import functional\n",
    "\n",
    "from transformers import AutoFeatureExtractor\n",
    "\n",
    "from PIL import Image\n",
    "import matplotlib.pyplot as plt"
   ]
  },
  {
   "cell_type": "markdown",
   "source": [
    "## Load model"
   ],
   "metadata": {
    "collapsed": false,
    "pycharm": {
     "name": "#%% md\n"
    }
   }
  },
  {
   "cell_type": "code",
   "execution_count": null,
   "outputs": [],
   "source": [
    "device = torch.device(\"cuda\" if torch.cuda.is_available() else \"cpu\")\n",
    "\n",
    "model = torch.load(input(\"trained model path\"), map_location=device)\n",
    "model.eval()\n",
    "\n",
    "model_name = model.config._name_or_path\n",
    "feature_extractor = AutoFeatureExtractor.from_pretrained(model_name)"
   ],
   "metadata": {
    "collapsed": false,
    "pycharm": {
     "name": "#%%\n",
     "is_executing": true
    }
   }
  },
  {
   "cell_type": "markdown",
   "source": [
    "## Set color palette"
   ],
   "metadata": {
    "collapsed": false,
    "pycharm": {
     "name": "#%% md\n"
    }
   }
  },
  {
   "cell_type": "code",
   "execution_count": null,
   "outputs": [],
   "source": [
    "PALETTE = [\n",
    "    [120, 120, 120],  # background\n",
    "    [180, 120, 120],  # container_truck\n",
    "    [6, 230, 230],  # forklift\n",
    "    [80, 50, 50],  # reach_stacker\n",
    "    [4, 200, 3]  # ship\n",
    "]\n",
    "palette = np.array(PALETTE)"
   ],
   "metadata": {
    "collapsed": false,
    "pycharm": {
     "name": "#%%\n"
    }
   }
  },
  {
   "cell_type": "markdown",
   "source": [
    "## Visualize"
   ],
   "metadata": {
    "collapsed": false,
    "pycharm": {
     "name": "#%% md\n"
    }
   }
  },
  {
   "cell_type": "code",
   "execution_count": null,
   "outputs": [],
   "source": [
    "img_path = input(\"image path to visualize\")\n",
    "img = Image.open(img_path)\n",
    "\n",
    "id2label = model.config.id2label\n",
    "\n",
    "inputs = feature_extractor(images=img, return_tensors=\"pt\")\n",
    "with torch.no_grad():\n",
    "    pixel_values = inputs[\"pixel_values\"].to(device)\n",
    "    outputs = model(pixel_values=pixel_values)\n",
    "\n",
    "logits = outputs.logits  # (batch_size, num_labels, height/4, width/4)\n",
    "upsampled_logits = functional.interpolate(\n",
    "    logits,\n",
    "    size=img.size[::-1],  # (height, width)\n",
    "    mode=\"bilinear\",\n",
    "    align_corners=False\n",
    ")\n",
    "seg = upsampled_logits.argmax(dim=1)[0].cpu().numpy()\n",
    "color_seg = np.zeros((seg.shape[0], seg.shape[1], 3), dtype=np.uint8)  # (height, width, 3)\n",
    "\n",
    "for label, color in enumerate(palette):\n",
    "    color_seg[seg == label, :] = color\n",
    "\n",
    "masked_img = np.array(img) * 0.2 + color_seg * 0.8\n",
    "masked_img = masked_img.astype(np.uint8)\n",
    "\n",
    "merged = np.concatenate(\n",
    "    (\n",
    "        np.concatenate((img, color_seg), axis=1),\n",
    "        np.concatenate(masked_img, (np.zeros_like(img)), axis=1)\n",
    "    ),\n",
    "    axis=0\n",
    ")\n",
    "\n",
    "plt.figure(figsize=(15, 15))\n",
    "plt.imshow(merged)"
   ],
   "metadata": {
    "collapsed": false,
    "pycharm": {
     "name": "#%%\n"
    }
   }
  },
  {
   "cell_type": "code",
   "execution_count": null,
   "outputs": [],
   "source": [],
   "metadata": {
    "collapsed": false,
    "pycharm": {
     "name": "#%%\n"
    }
   }
  }
 ],
 "metadata": {
  "kernelspec": {
   "display_name": "Python 3",
   "language": "python",
   "name": "python3"
  },
  "language_info": {
   "codemirror_mode": {
    "name": "ipython",
    "version": 2
   },
   "file_extension": ".py",
   "mimetype": "text/x-python",
   "name": "python",
   "nbconvert_exporter": "python",
   "pygments_lexer": "ipython2",
   "version": "2.7.6"
  }
 },
 "nbformat": 4,
 "nbformat_minor": 0
}